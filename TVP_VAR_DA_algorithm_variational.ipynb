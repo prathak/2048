{
  "nbformat": 4,
  "nbformat_minor": 0,
  "metadata": {
    "kernelspec": {
      "display_name": "Python 3",
      "language": "python",
      "name": "python3"
    },
    "language_info": {
      "codemirror_mode": {
        "name": "ipython",
        "version": 3
      },
      "file_extension": ".py",
      "mimetype": "text/x-python",
      "name": "python",
      "nbconvert_exporter": "python",
      "pygments_lexer": "ipython3",
      "version": "3.7.5"
    },
    "colab": {
      "name": "TVP-VAR-DA algorithm-variational.ipynb",
      "provenance": [],
      "include_colab_link": true
    }
  },
  "cells": [
    {
      "cell_type": "markdown",
      "metadata": {
        "id": "view-in-github",
        "colab_type": "text"
      },
      "source": [
        "<a href=\"https://colab.research.google.com/github/prathak/2048/blob/master/TVP_VAR_DA_algorithm_variational.ipynb\" target=\"_parent\"><img src=\"https://colab.research.google.com/assets/colab-badge.svg\" alt=\"Open In Colab\"/></a>"
      ]
    },
    {
      "cell_type": "code",
      "metadata": {
        "id": "daRjgM78mhb6",
        "colab_type": "code",
        "colab": {}
      },
      "source": [
        "pip install --upgrade tensorflow==2.2.0rc4"
      ],
      "execution_count": 0,
      "outputs": []
    },
    {
      "cell_type": "code",
      "metadata": {
        "id": "G8Ss36kImhcC",
        "colab_type": "code",
        "colab": {}
      },
      "source": [
        "pip install --upgrade tfp-nightly\n"
      ],
      "execution_count": 0,
      "outputs": []
    },
    {
      "cell_type": "code",
      "metadata": {
        "id": "3hapJlXOmhcK",
        "colab_type": "code",
        "colab": {}
      },
      "source": [
        "#import packages\n",
        "import random\n",
        "import os\n",
        "import numpy as np\n",
        "import tensorflow_probability as tfp\n",
        "import tensorflow as tf\n",
        "import matplotlib.pyplot as plt\n",
        "import time\n",
        "#%qtconsole \n",
        "\n",
        "def run_DGP(periods,dimensions):\n",
        "\n",
        "    ##Data Generating Process######\n",
        "    np.random.seed(1337)# this is the only part of the whole code which is stochastic\n",
        "\n",
        "    n_dim = dimensions #INPUT # number of dimensions #\n",
        "\n",
        "    t=np.array(periods) #INPUT #500  \n",
        "\n",
        "\n",
        "    #try out different scales\n",
        "    Q=np.array(0.001) #0.001\n",
        "    R=np.array(0.01) #0.01\n",
        "    Q_test = 0.001  \n",
        "    R_test = 0.01\n",
        "\n",
        "\n",
        "    #generate white noise series\n",
        "    e1 = np.random.normal(0,1,[t, n_dim])\n",
        "    #e1 = e1*Q\n",
        "    e1 = e1*Q\n",
        "\n",
        "    e2 = np.random.normal(0,1,[t, n_dim])\n",
        "    e2 = e2*R\n",
        "\n",
        "    e3 = np.random.normal(0,1,[t, n_dim])\n",
        "    e3 = e3*Q_test\n",
        "\n",
        "    #generate containers\n",
        "    Beta = np.zeros(shape=[t, n_dim]) \n",
        "    Y= np.zeros(shape=[t, n_dim])\n",
        "\n",
        "\n",
        "    #generate  X as N-(3,1) process\n",
        "    X = np.random.normal(3,1,size=[t, n_dim])\n",
        "\n",
        "    #generate state variable beta as random walk process, and Y as a function of this.\n",
        "\n",
        "    for i in np.arange(0,n_dim):\n",
        "        for j in np.arange(1,t).reshape(-1):\n",
        "            Beta[j][i] = Beta[j-1][i] + e2[j][i]\n",
        "            Y[j][i] = X[j][i]*Beta[j][i] + e1[j][i] +e3[j][i]  #+e4[j][n_dim-1]\n",
        "    X_raw = X  \n",
        "    Y_raw = Y\n",
        "\n",
        "    return(X_raw, Y_raw, Beta)\n",
        "\n",
        "\n",
        "\n",
        "# if __name__ == \"__main__\":\n",
        "\n",
        "#     X,Y,Beta = run_DGP(periods=180,dimensions=3)\n",
        "\n",
        "\n",
        "# if 1:\n",
        "# #Now check artifical series\n",
        "# #Create subplot\n",
        "#     fig1, ax = plt.subplots(2, 2, figsize = (15, 10))\n",
        "#     ax[0, 0].plot(Beta)\n",
        "#     ax[0, 0].set_title(r'Betas', fontsize = 15)\n",
        "#     ax[1, 0].plot(Y[:,1:2])\n",
        "#     ax[1, 0].set_title(r'Example Y', fontsize = 15)\n",
        "#     ax[0, 1].plot(X[:,1:2])\n",
        "#     ax[0, 1].set_title(r'Example X', fontsize = 15)\n",
        "#     ax[1, 1].plot(X)\n",
        "#     ax[1, 1].set_title(r'All X', fontsize = 15)\n",
        "#     plt.tight_layout()"
      ],
      "execution_count": 0,
      "outputs": []
    },
    {
      "cell_type": "code",
      "metadata": {
        "id": "G3vZ1SmumhcM",
        "colab_type": "code",
        "colab": {}
      },
      "source": [
        "# creating x = I ⊗ X, Xt = [y t−1 0 ,...,y t−l ,1]\n",
        "def get_x(time, lag_length, K, Y, X, raw_x = True):\n",
        "    #  t × K\n",
        "    X1 = np.zeros(shape=[time,K])\n",
        "    # t x q × qK\n",
        "    x = np.zeros(shape=[time,n_dim,K*n_dim])\n",
        "    \n",
        "    for t in range(lag_length+1,time):\n",
        "        lag_sh = 0\n",
        "        if(raw):\n",
        "            X1[t,lag_sh:lag_sh+n_dim] = X[t]\n",
        "        else:\n",
        "            start = t-1 if lag_length == 0 else (t-lag_length+1)\n",
        "            lag_var =  X[start:t+1,:].flatten()\n",
        "            lag_sh = lag_var.shape[0]\n",
        "            X1[t,:lag_sh] = lag_var\n",
        "        X1[t,-1] = 1\n",
        "        x[t] = np.kron(np.eye(n_dim),X1[t].T)\n",
        "    return x"
      ],
      "execution_count": 0,
      "outputs": []
    },
    {
      "cell_type": "code",
      "metadata": {
        "id": "fqwbWHgomhcQ",
        "colab_type": "code",
        "colab": {}
      },
      "source": [
        "class TVP_variational_optimization:\n",
        "    def __init__(self, n_dim, K , window, Q_0, beta_b, t, x, Y):\n",
        "         # n_dim x n_dim \n",
        "        sigma_bar = np.identity(n_dim)*0.05\n",
        "        \n",
        "        self.sigma = tf.convert_to_tensor(sigma_bar, dtype=tf.float32)\n",
        "        self.Q = tf.convert_to_tensor(Q_0, dtype=tf.float32)\n",
        "        self.beta_b = tf.convert_to_tensor(beta_b, dtype=tf.float32)\n",
        "        self.beta = tf.Variable(np.zeros((n_dim*K, 1)), dtype=tf.float32)\n",
        "        self.n_dim = n_dim\n",
        "        self.X = tf.convert_to_tensor(x, dtype=tf.float32)\n",
        "        self.Y = tf.convert_to_tensor(Y, dtype=tf.float32)\n",
        "        self.K = K\n",
        "        self.t = t\n",
        "        self.window = window\n",
        "        self.optimizer = tf.keras.optimizers.Adam(lr=0.01)\n",
        "\n",
        "    def cost(self):\n",
        "        beta_b_beta = (self.beta_b - self.beta)\n",
        "        beta_b_beta_transpose = tf.transpose(beta_b_beta)\n",
        "        beta_b_beta_Q_0 = tf.tensordot(beta_b_beta_transpose, tf.linalg.inv(self.Q),axes = 1)\n",
        "        J_b = tf.tensordot(beta_b_beta_Q_0,beta_b_beta,axes = 1)\n",
        "        \n",
        "        total_residual_cost = tf.zeros([self.n_dim,self.n_dim])\n",
        "        \n",
        "        for i in range(self.t, self.t + self.window):\n",
        "            Y_new = tf.reshape(self.Y[i],[n_dim,1])\n",
        "            residual = Y_new - (self.X[i] @ self.beta)\n",
        "            residual_t = tf.transpose(residual)\n",
        "            \n",
        "            residula_sigma = tf.tensordot(residual_t, tf.linalg.inv(self.sigma),axes = 1)\n",
        "            J_0 = tf.tensordot(residula_sigma,residual,axes = 1)\n",
        "            \n",
        "            total_residual_cost += J_0\n",
        "            \n",
        "        return (J_b + total_residual_cost) \n",
        "\n",
        "    def optimize_w(self):\n",
        "        losses = tfp.math.minimize(self.cost,\n",
        "                           num_steps=300,\n",
        "                           optimizer=self.optimizer)\n",
        "        return self.beta\n",
        "        # print(\"optimized value is {} with loss {}\".format(self.beta, losses[-1]))\n"
      ],
      "execution_count": 0,
      "outputs": []
    },
    {
      "cell_type": "code",
      "metadata": {
        "id": "1vd4JzsEmhcS",
        "colab_type": "code",
        "colab": {},
        "outputId": "abff0927-ed2a-418e-9278-a31753297512"
      },
      "source": [
        "time = 150\n",
        "n_dim = 3\n",
        "raw = True\n",
        "window = 5\n",
        "lag_length = 0\n",
        "\n",
        "K = n_dim + 1\n",
        "X,Y,Beta = run_DGP(periods=time,dimensions=n_dim)\n",
        "x = get_x(time,lag_length,K, Y, X,raw_x = True)\n",
        "Q_0 = np.eye(n_dim*K)*1.01\n",
        "beta_b = np.eye(n_dim*K,1)*0.06 \n",
        "b = np.zeros((time,n_dim))\n",
        "qK = n_dim*K\n",
        "beta = np.zeros([time,qK,1])\n",
        "    \n",
        "for t in range(0,time,window) :\n",
        "    if(t%15 == 0):\n",
        "        print(\"At time window : \" + str(t))\n",
        "    optimizer = TVP_variational_optimization(n_dim, K, window, Q_0, beta_b, t, x, Y)\n",
        "    optim = optimizer.optimize_w()\n",
        "    beta[t] = optim.numpy()\n",
        "    for tau in range(0,window):\n",
        "        beta[t+tau] = beta[t] \n",
        "    beta_b = beta[t]\n",
        "    Q_0 = Q_0 + np.identity(K*n_dim)\n",
        "    \n",
        "    for i in range(0,time):\n",
        "        a = int(beta[t,:,0].shape[0]/n_dim)\n",
        "        b[t] = np.diag(np.reshape(beta[t,:,0],(n_dim,a)))\n",
        "\n",
        "        "
      ],
      "execution_count": 0,
      "outputs": [
        {
          "output_type": "stream",
          "text": [
            "At time window : 0\n",
            "At time window : 15\n",
            "At time window : 30\n",
            "At time window : 45\n",
            "At time window : 60\n",
            "At time window : 75\n",
            "At time window : 90\n",
            "At time window : 105\n",
            "At time window : 120\n",
            "At time window : 135\n"
          ],
          "name": "stdout"
        }
      ]
    },
    {
      "cell_type": "code",
      "metadata": {
        "id": "FvcW6MfkmhcW",
        "colab_type": "code",
        "colab": {},
        "outputId": "03f9a2d2-fec5-4b6a-9873-f5fe223cb940"
      },
      "source": [
        "plt.plot(beta[:,0,:],linestyle = '--')\n",
        "plt.plot(Beta[:,0])\n",
        "\n",
        "plt.tight_layout()\n"
      ],
      "execution_count": 0,
      "outputs": [
        {
          "output_type": "display_data",
          "data": {
            "image/png": "[encoded data removed]",
            "text/plain": [
              "<Figure size 432x288 with 1 Axes>"
            ]
          },
          "metadata": {
            "tags": [],
            "needs_background": "light"
          }
        }
      ]
    },
    {
      "cell_type": "code",
      "metadata": {
        "id": "lgKJKCICmhca",
        "colab_type": "code",
        "colab": {}
      },
      "source": [
        ""
      ],
      "execution_count": 0,
      "outputs": []
    }
  ]
}